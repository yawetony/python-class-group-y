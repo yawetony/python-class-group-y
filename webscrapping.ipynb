{
 "cells": [
  {
   "cell_type": "code",
   "execution_count": 325,
   "id": "87855342-e816-44e4-8c50-cffc10169733",
   "metadata": {},
   "outputs": [],
   "source": [
    "import requests\n",
    "from bs4 import BeautifulSoup\n",
    "import pandas as pd"
   ]
  },
  {
   "cell_type": "code",
   "execution_count": 326,
   "id": "c076c12b-6be5-4e3c-8206-1338c341c0c1",
   "metadata": {},
   "outputs": [],
   "source": [
    "url = \"http://www.example.com\"\n",
    "\n",
    "response = requests.get(url)\n",
    "\n",
    "soup = BeautifulSoup(response.content, 'html.parser')\n"
   ]
  },
  {
   "cell_type": "code",
   "execution_count": 327,
   "id": "161395b3-095b-4903-ab16-a32917eb9ba7",
   "metadata": {},
   "outputs": [
    {
     "name": "stdout",
     "output_type": "stream",
     "text": [
      "\n",
      "Example Domain\n",
      "This domain is for use in illustrative examples in documents. You may use this\n",
      "    domain in literature without prior coordination or asking for permission.\n",
      "More information...\n",
      "\n"
     ]
    }
   ],
   "source": [
    "body = soup.find('div').text\n",
    "\n",
    "print(body)"
   ]
  }
 ],
 "metadata": {
  "kernelspec": {
   "display_name": "Python 3 (ipykernel)",
   "language": "python",
   "name": "python3"
  },
  "language_info": {
   "codemirror_mode": {
    "name": "ipython",
    "version": 3
   },
   "file_extension": ".py",
   "mimetype": "text/x-python",
   "name": "python",
   "nbconvert_exporter": "python",
   "pygments_lexer": "ipython3",
   "version": "3.11.7"
  }
 },
 "nbformat": 4,
 "nbformat_minor": 5
}
